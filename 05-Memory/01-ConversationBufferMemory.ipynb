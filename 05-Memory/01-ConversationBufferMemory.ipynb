{
  "cells": [
    {
      "cell_type": "markdown",
      "metadata": {},
      "source": [
        "# ConversationBufferMemory\n",
        "\n",
        "- Author: [Sungchul Kim](https://github.com/rlatjcj)\n",
        "- Peer Review : [Shinar12](https://github.com/Shinar12), [BAEM1N](https://github.com/BAEM1N), [YellowGangneng](https://github.com/YellowGangneng)\n",
        "- This is a part of [LangChain Open Tutorial](https://github.com/LangChain-OpenTutorial/LangChain-OpenTutorial)\n",
        "\n",
        "[![Open in Colab](https://colab.research.google.com/assets/colab-badge.svg)](https://colab.research.google.com/github/LangChain-OpenTutorial/LangChain-OpenTutorial/blob/main/05-Memory/01-ConversationBufferMemory.ipynb) [![Open in GitHub](https://img.shields.io/badge/Open%20in%20GitHub-181717?style=flat-square&logo=github&logoColor=white)](https://github.com/LangChain-OpenTutorial/LangChain-OpenTutorial/blob/main/05-Memory/01-ConversationBufferMemory.ipynb)\n",
        "\n",
        "## Overview\n",
        "\n",
        "This tutorial introduces `ConversationBufferMemory`, a memory class that stores conversation history in a buffer.\n",
        "\n",
        "Typically, no additional processing is required. Sometimes, however, it may be necessary when the conversation history exceeds the model's context window.\n",
        "\n",
        "In this tutorial, we will learn how to use `ConversationBufferMemory` to store and retrieve conversation history.\n",
        "\n",
        "\n",
        "### Table of Contents\n",
        "\n",
        "- [Overview](#overview)\n",
        "- [Environment Setup](#environment-setup)\n",
        "- [Extracting messages as strings](#extracting-messages-as-strings)\n",
        "- [Extracting messages as HumanMessage and AIMessage objects](#extracting-messages-as-humanmessage-and-aimessage-objects)\n",
        "- [Applying to a Chain](#applying-to-a-chain)\n",
        "\n",
        "### References\n",
        "- [LangChain: ConversationBufferMemory](https://python.langchain.com/api_reference/langchain/memory/langchain.memory.buffer.ConversationBufferMemory.html)\n",
        "----"
      ]
    },
    {
      "cell_type": "markdown",
      "metadata": {},
      "source": [
        "## Environment Setup\n",
        "\n",
        "Set up the environment. You may refer to [Environment Setup](https://wikidocs.net/257836) for more details.\n",
        "\n",
        "**[Note]**\n",
        "- `langchain-opentutorial` is a package that provides a set of easy-to-use environment setup, useful functions and utilities for tutorials. \n",
        "- You can checkout the [`langchain-opentutorial`](https://github.com/LangChain-OpenTutorial/langchain-opentutorial-pypi) for more details."
      ]
    },
    {
      "cell_type": "code",
      "execution_count": 1,
      "metadata": {},
      "outputs": [],
      "source": [
        "%%capture --no-stderr\n",
        "%pip install langchain-opentutorial"
      ]
    },
    {
      "cell_type": "code",
      "execution_count": 2,
      "metadata": {},
      "outputs": [
        {
          "name": "stderr",
          "output_type": "stream",
          "text": [
            "\n",
            "\u001b[1m[\u001b[0m\u001b[34;49mnotice\u001b[0m\u001b[1;39;49m]\u001b[0m\u001b[39;49m A new release of pip is available: \u001b[0m\u001b[31;49m25.0\u001b[0m\u001b[39;49m -> \u001b[0m\u001b[32;49m25.0.1\u001b[0m\n",
            "\u001b[1m[\u001b[0m\u001b[34;49mnotice\u001b[0m\u001b[1;39;49m]\u001b[0m\u001b[39;49m To update, run: \u001b[0m\u001b[32;49mpip install --upgrade pip\u001b[0m\n"
          ]
        }
      ],
      "source": [
        "# Install required packages\n",
        "from langchain_opentutorial import package\n",
        "\n",
        "package.install(\n",
        "    [\n",
        "        \"langsmith\",\n",
        "        \"langchain\",\n",
        "        \"langchain_openai\",\n",
        "    ],\n",
        "    verbose=False,\n",
        "    upgrade=False,\n",
        ")"
      ]
    },
    {
      "cell_type": "code",
      "execution_count": 4,
      "metadata": {},
      "outputs": [
        {
          "name": "stdout",
          "output_type": "stream",
          "text": [
            "Environment variables have been set successfully.\n"
          ]
        }
      ],
      "source": [
        "# Set environment variables\n",
        "from langchain_opentutorial import set_env\n",
        "\n",
        "set_env(\n",
        "    {\n",
        "        \"OPENAI_API_KEY\": \"\",\n",
        "        \"LANGCHAIN_API_KEY\": \"\",\n",
        "        \"LANGCHAIN_TRACING_V2\": \"true\",\n",
        "        \"LANGCHAIN_ENDPOINT\": \"https://api.smith.langchain.com\",\n",
        "        \"LANGCHAIN_PROJECT\": \"ConversationBufferMemory\",\n",
        "    }\n",
        ")"
      ]
    },
    {
      "cell_type": "markdown",
      "metadata": {},
      "source": [
        "You can alternatively set `OPENAI_API_KEY` in `.env` file and load it.\n",
        "\n",
        "**[Note]**  \n",
        "- This is not necessary if you've already set `OPENAI_API_KEY` in previous steps."
      ]
    },
    {
      "cell_type": "code",
      "execution_count": 6,
      "metadata": {},
      "outputs": [
        {
          "data": {
            "text/plain": [
              "False"
            ]
          },
          "execution_count": 6,
          "metadata": {},
          "output_type": "execute_result"
        }
      ],
      "source": [
        "from dotenv import load_dotenv\n",
        "\n",
        "load_dotenv()"
      ]
    },
    {
      "cell_type": "markdown",
      "metadata": {},
      "source": [
        "## Extracting messages as strings\n",
        "\n",
        "After storing conversation messages, this memory allows you to extract messages into a variable.\n"
      ]
    },
    {
      "cell_type": "code",
      "execution_count": 7,
      "metadata": {},
      "outputs": [],
      "source": [
        "from langchain.memory import ConversationBufferMemory"
      ]
    },
    {
      "cell_type": "code",
      "execution_count": 8,
      "metadata": {},
      "outputs": [
        {
          "name": "stderr",
          "output_type": "stream",
          "text": [
            "/var/folders/nj/q5g56j4x2qjdw_n8_f5l1w0m0000gn/T/ipykernel_70475/2223904900.py:1: LangChainDeprecationWarning: Please see the migration guide at: https://python.langchain.com/docs/versions/migrating_memory/\n",
            "  memory = ConversationBufferMemory()\n"
          ]
        },
        {
          "data": {
            "text/plain": [
              "ConversationBufferMemory(chat_memory=InMemoryChatMessageHistory(messages=[]))"
            ]
          },
          "execution_count": 8,
          "metadata": {},
          "output_type": "execute_result"
        }
      ],
      "source": [
        "#ConversationBufferMemory는 전체 대화 기록을 저장하는 메모리 방식\n",
        "memory = ConversationBufferMemory()\n",
        "memory"
      ]
    },
    {
      "cell_type": "markdown",
      "metadata": {},
      "source": [
        "You can use the `save_context(inputs, outputs)` method to save conversation records.\n",
        "\n",
        "- This method accepts two arguments, `inputs` and `outputs`.\n",
        "- `inputs` stores the user's question, and `outputs` stores the AI's answer.\n",
        "- The conversation record is stored internally under the `history` key.\n",
        "- You can then use the `load_memory_variables` method to retrieve and inspect the saved conversation history.\n"
      ]
    },
    {
      "cell_type": "code",
      "execution_count": 9,
      "metadata": {},
      "outputs": [],
      "source": [
        "# inputs: dictionary(key: \"human\" or \"ai\", value: question)\n",
        "# outputs: dictionary(key: \"ai\" or \"human\", value: answer)\n",
        "#사용자의 질문과 AI의 응답을 memory.save_context()를 사용해 저장\n",
        "\n",
        "memory.save_context(\n",
        "    inputs={\n",
        "        \"human\": \"Hello, I want to open a bank account remotely. How do I start?\",\n",
        "    },\n",
        "    outputs={\n",
        "        \"ai\": \"Hello! I'm glad you want to open an account. First, please prepare your ID for identity verification.\"\n",
        "    },\n",
        ")"
      ]
    },
    {
      "cell_type": "code",
      "execution_count": 10,
      "metadata": {},
      "outputs": [
        {
          "data": {
            "text/plain": [
              "ConversationBufferMemory(chat_memory=InMemoryChatMessageHistory(messages=[HumanMessage(content='Hello, I want to open a bank account remotely. How do I start?', additional_kwargs={}, response_metadata={}), AIMessage(content=\"Hello! I'm glad you want to open an account. First, please prepare your ID for identity verification.\", additional_kwargs={}, response_metadata={})]))"
            ]
          },
          "execution_count": 10,
          "metadata": {},
          "output_type": "execute_result"
        }
      ],
      "source": [
        "memory"
      ]
    },
    {
      "cell_type": "markdown",
      "metadata": {},
      "source": [
        "The `load_memory_variables({})` method of the memory object returns the complete message history as a string."
      ]
    },
    {
      "cell_type": "code",
      "execution_count": 11,
      "metadata": {},
      "outputs": [
        {
          "name": "stdout",
          "output_type": "stream",
          "text": [
            "Human: Hello, I want to open a bank account remotely. How do I start?\n",
            "AI: Hello! I'm glad you want to open an account. First, please prepare your ID for identity verification.\n"
          ]
        }
      ],
      "source": [
        "# Check the message history stored in the 'history' key.\n",
        "#memory.load_memory_variables({})[\"history\"]를 이용해 대화 내역 출력\n",
        "print(memory.load_memory_variables({})[\"history\"])"
      ]
    },
    {
      "cell_type": "code",
      "execution_count": 12,
      "metadata": {},
      "outputs": [],
      "source": [
        "memory.save_context(\n",
        "    inputs={\n",
        "        \"human\": \"Yes, I've prepared my ID for identity verification. What should I do next?\"\n",
        "    },\n",
        "    outputs={\n",
        "        \"ai\": \"Thank you. Please upload the front and back of your ID clearly. We will proceed with the identity verification process next.\"\n",
        "    },\n",
        ")"
      ]
    },
    {
      "cell_type": "code",
      "execution_count": 13,
      "metadata": {},
      "outputs": [
        {
          "name": "stdout",
          "output_type": "stream",
          "text": [
            "Human: Hello, I want to open a bank account remotely. How do I start?\n",
            "AI: Hello! I'm glad you want to open an account. First, please prepare your ID for identity verification.\n",
            "Human: Yes, I've prepared my ID for identity verification. What should I do next?\n",
            "AI: Thank you. Please upload the front and back of your ID clearly. We will proceed with the identity verification process next.\n"
          ]
        }
      ],
      "source": [
        "# Check the message history stored in the 'history' key.\n",
        "print(memory.load_memory_variables({})[\"history\"])"
      ]
    },
    {
      "cell_type": "code",
      "execution_count": 14,
      "metadata": {},
      "outputs": [],
      "source": [
        "# Save 2 conversations.\n",
        "memory.save_context(\n",
        "    inputs={\n",
        "        \"human\": \"I uploaded the photo. How do I proceed with identity verification?\"\n",
        "    },\n",
        "    outputs={\n",
        "        \"ai\": \"We have confirmed the photo you uploaded. Please proceed with identity verification through your mobile phone. Please enter the verification number sent by text.\"\n",
        "    },\n",
        ")\n",
        "memory.save_context(\n",
        "    inputs={\n",
        "        \"human\": \"I entered the verification number. How do I open an account now?\"\n",
        "    },\n",
        "    outputs={\n",
        "        \"ai\": \"Identity verification has been completed. Please select the type of account you want and enter the necessary information. You can choose the type of deposit, currency, etc.\"\n",
        "    },\n",
        ")"
      ]
    },
    {
      "cell_type": "code",
      "execution_count": 15,
      "metadata": {},
      "outputs": [
        {
          "name": "stdout",
          "output_type": "stream",
          "text": [
            "Human: Hello, I want to open a bank account remotely. How do I start?\n",
            "AI: Hello! I'm glad you want to open an account. First, please prepare your ID for identity verification.\n",
            "Human: Yes, I've prepared my ID for identity verification. What should I do next?\n",
            "AI: Thank you. Please upload the front and back of your ID clearly. We will proceed with the identity verification process next.\n",
            "Human: I uploaded the photo. How do I proceed with identity verification?\n",
            "AI: We have confirmed the photo you uploaded. Please proceed with identity verification through your mobile phone. Please enter the verification number sent by text.\n",
            "Human: I entered the verification number. How do I open an account now?\n",
            "AI: Identity verification has been completed. Please select the type of account you want and enter the necessary information. You can choose the type of deposit, currency, etc.\n"
          ]
        }
      ],
      "source": [
        "# Check the conversation history stored in the 'history' key.\n",
        "print(memory.load_memory_variables({})[\"history\"])"
      ]
    },
    {
      "cell_type": "code",
      "execution_count": 16,
      "metadata": {},
      "outputs": [],
      "source": [
        "# Save 2 more conversations.\n",
        "memory.save_context(\n",
        "    inputs={\n",
        "        \"human\": \"I've entered all the information. What's the next step?\",\n",
        "    },\n",
        "    outputs={\n",
        "        \"ai\": \"I've confirmed the information you've entered. The account opening process is almost complete. Please agree to the terms of use and confirm the account opening.\"\n",
        "    },\n",
        ")\n",
        "memory.save_context(\n",
        "    inputs={\n",
        "        \"human\": \"I've completed all the steps. Has the account been opened?\",\n",
        "    },\n",
        "    outputs={\n",
        "        \"ai\": \"Yes, the account has been opened. Your account number and related information have been sent to the email you registered. If you need additional help, please contact us at any time. Thank you!\"\n",
        "    },\n",
        ")"
      ]
    },
    {
      "cell_type": "code",
      "execution_count": 17,
      "metadata": {},
      "outputs": [
        {
          "name": "stdout",
          "output_type": "stream",
          "text": [
            "Human: Hello, I want to open a bank account remotely. How do I start?\n",
            "AI: Hello! I'm glad you want to open an account. First, please prepare your ID for identity verification.\n",
            "Human: Yes, I've prepared my ID for identity verification. What should I do next?\n",
            "AI: Thank you. Please upload the front and back of your ID clearly. We will proceed with the identity verification process next.\n",
            "Human: I uploaded the photo. How do I proceed with identity verification?\n",
            "AI: We have confirmed the photo you uploaded. Please proceed with identity verification through your mobile phone. Please enter the verification number sent by text.\n",
            "Human: I entered the verification number. How do I open an account now?\n",
            "AI: Identity verification has been completed. Please select the type of account you want and enter the necessary information. You can choose the type of deposit, currency, etc.\n",
            "Human: I've entered all the information. What's the next step?\n",
            "AI: I've confirmed the information you've entered. The account opening process is almost complete. Please agree to the terms of use and confirm the account opening.\n",
            "Human: I've completed all the steps. Has the account been opened?\n",
            "AI: Yes, the account has been opened. Your account number and related information have been sent to the email you registered. If you need additional help, please contact us at any time. Thank you!\n"
          ]
        }
      ],
      "source": [
        "# Check the conversation history stored in the 'history' key.\n",
        "print(memory.load_memory_variables({})[\"history\"])"
      ]
    },
    {
      "cell_type": "markdown",
      "metadata": {},
      "source": [
        "## Extracting messages as `HumanMessage` and `AIMessage` objects\n",
        "\n",
        "Setting `return_messages=True` returns `HumanMessage` and `AIMessage` objects."
      ]
    },
    {
      "cell_type": "code",
      "execution_count": 18,
      "metadata": {},
      "outputs": [],
      "source": [
        "#리스트 방식 출력\n",
        "memory = ConversationBufferMemory(return_messages=True)\n",
        "\n",
        "memory.save_context(\n",
        "    inputs={\n",
        "        \"human\": \"Hello, I want to open a bank account remotely. How do I start?\",\n",
        "    },\n",
        "    outputs={\n",
        "        \"ai\": \"Hello! I'm glad you want to open an account. First, please prepare your ID for identity verification.\",\n",
        "    },\n",
        ")\n",
        "\n",
        "memory.save_context(\n",
        "    inputs={\n",
        "        \"human\": \"Yes, I've prepared my ID for identity verification. What should I do next?\"\n",
        "    },\n",
        "    outputs={\n",
        "        \"ai\": \"Thank you. Please upload the front and back of your ID clearly. We will proceed with the identity verification process next.\"\n",
        "    },\n",
        ")\n",
        "\n",
        "memory.save_context(\n",
        "    inputs={\n",
        "        \"human\": \"I uploaded the photo. How do I proceed with identity verification?\"\n",
        "    },\n",
        "    outputs={\n",
        "        \"ai\": \"We have confirmed the photo you uploaded. Please proceed with identity verification through your mobile phone. Please enter the verification number sent by text.\"\n",
        "    },\n",
        ")"
      ]
    },
    {
      "cell_type": "code",
      "execution_count": 19,
      "metadata": {},
      "outputs": [
        {
          "data": {
            "text/plain": [
              "[HumanMessage(content='Hello, I want to open a bank account remotely. How do I start?', additional_kwargs={}, response_metadata={}),\n",
              " AIMessage(content=\"Hello! I'm glad you want to open an account. First, please prepare your ID for identity verification.\", additional_kwargs={}, response_metadata={}),\n",
              " HumanMessage(content=\"Yes, I've prepared my ID for identity verification. What should I do next?\", additional_kwargs={}, response_metadata={}),\n",
              " AIMessage(content='Thank you. Please upload the front and back of your ID clearly. We will proceed with the identity verification process next.', additional_kwargs={}, response_metadata={}),\n",
              " HumanMessage(content='I uploaded the photo. How do I proceed with identity verification?', additional_kwargs={}, response_metadata={}),\n",
              " AIMessage(content='We have confirmed the photo you uploaded. Please proceed with identity verification through your mobile phone. Please enter the verification number sent by text.', additional_kwargs={}, response_metadata={})]"
            ]
          },
          "execution_count": 19,
          "metadata": {},
          "output_type": "execute_result"
        }
      ],
      "source": [
        "# Check the conversation history stored in the 'history' key.\n",
        "memory.load_memory_variables({})[\"history\"]"
      ]
    },
    {
      "cell_type": "markdown",
      "metadata": {},
      "source": [
        "## Applying to a Chain\n",
        "\n",
        "Let's apply `ConversationBufferMemory` to a `ConversationChain`."
      ]
    },
    {
      "cell_type": "code",
      "execution_count": 20,
      "metadata": {},
      "outputs": [
        {
          "name": "stderr",
          "output_type": "stream",
          "text": [
            "/var/folders/nj/q5g56j4x2qjdw_n8_f5l1w0m0000gn/T/ipykernel_70475/3549519840.py:8: LangChainDeprecationWarning: The class `ConversationChain` was deprecated in LangChain 0.2.7 and will be removed in 1.0. Use :meth:`~RunnableWithMessageHistory: https://python.langchain.com/v0.2/api_reference/core/runnables/langchain_core.runnables.history.RunnableWithMessageHistory.html` instead.\n",
            "  conversation = ConversationChain(\n"
          ]
        }
      ],
      "source": [
        "from langchain_openai import ChatOpenAI\n",
        "from langchain.chains import ConversationChain\n",
        "\n",
        "# Create an LLM model.\n",
        "llm = ChatOpenAI(temperature=0, model_name=\"gpt-4o\")\n",
        "\n",
        "# Create a ConversationChain.\n",
        "conversation = ConversationChain(\n",
        "    # Use ConversationBufferMemory.\n",
        "    llm=llm,\n",
        "    memory=ConversationBufferMemory(),\n",
        ")"
      ]
    },
    {
      "cell_type": "markdown",
      "metadata": {},
      "source": [
        "Proceed with the conversation using the `ConversationChain`."
      ]
    },
    {
      "cell_type": "code",
      "execution_count": 21,
      "metadata": {},
      "outputs": [
        {
          "name": "stdout",
          "output_type": "stream",
          "text": [
            "Hello! Opening a bank account remotely is quite convenient these days, thanks to digital banking services. Here’s a step-by-step guide to help you get started:\n",
            "\n",
            "1. **Research Banks**: First, decide which bank or credit union you want to open an account with. Consider factors like fees, interest rates, customer service, and the availability of online banking features. Many banks offer online-only accounts with lower fees.\n",
            "\n",
            "2. **Visit the Bank’s Website**: Once you’ve chosen a bank, visit their official website. Look for an option like “Open an Account” or “Apply Now.” This is usually prominently displayed on the homepage.\n",
            "\n",
            "3. **Choose the Type of Account**: Decide whether you want a checking account, savings account, or both. Some banks offer special accounts for students, seniors, or businesses, so choose the one that best fits your needs.\n",
            "\n",
            "4. **Prepare Your Documents**: You’ll typically need to provide some personal information and documents. This usually includes:\n",
            "   - A government-issued ID (like a passport or driver’s license)\n",
            "   - Your Social Security number or Tax Identification Number\n",
            "   - Proof of address (such as a utility bill or lease agreement)\n",
            "   - Employment information (sometimes required)\n",
            "\n",
            "5. **Fill Out the Application**: Complete the online application form. You’ll need to enter your personal details, contact information, and any other required information. Make sure everything is accurate to avoid delays.\n",
            "\n",
            "6. **Verify Your Identity**: Many banks will require you to verify your identity. This might involve uploading a photo of your ID, answering security questions, or even a video call with a bank representative.\n",
            "\n",
            "7. **Fund Your Account**: You’ll need to make an initial deposit to activate your account. This can usually be done via a transfer from another bank account, a credit card, or a mobile payment service.\n",
            "\n",
            "8. **Set Up Online Banking**: Once your account is open, set up online banking. This will allow you to manage your account, pay bills, and transfer money from your computer or smartphone.\n",
            "\n",
            "9. **Receive Your Debit Card**: If you’ve opened a checking account, you’ll likely receive a debit card in the mail within a few days to a couple of weeks.\n",
            "\n",
            "If you have any specific questions about the process or need help choosing a bank, feel free to ask!\n"
          ]
        }
      ],
      "source": [
        "# Start the conversation.\n",
        "response = conversation.predict(\n",
        "    input=\"Hello, I want to open a bank account remotely. How do I start?\"\n",
        ")\n",
        "print(response)"
      ]
    },
    {
      "cell_type": "markdown",
      "metadata": {},
      "source": [
        "Verify if the system remembers the previous conversation."
      ]
    },
    {
      "cell_type": "code",
      "execution_count": 22,
      "metadata": {},
      "outputs": [
        {
          "name": "stdout",
          "output_type": "stream",
          "text": [
            "- **Research Banks**: Choose a bank based on fees, interest rates, and online features.\n",
            "- **Visit the Bank’s Website**: Look for “Open an Account” or “Apply Now.”\n",
            "- **Choose the Type of Account**: Decide between checking, savings, or specialized accounts.\n",
            "- **Prepare Your Documents**: Have your ID, Social Security number, proof of address, and employment info ready.\n",
            "- **Fill Out the Application**: Enter personal and contact details accurately.\n",
            "- **Verify Your Identity**: Upload ID, answer security questions, or have a video call.\n",
            "- **Fund Your Account**: Make an initial deposit via transfer, credit card, or mobile payment.\n",
            "- **Set Up Online Banking**: Manage your account online.\n",
            "- **Receive Your Debit Card**: Expect it in the mail if you opened a checking account.\n"
          ]
        }
      ],
      "source": [
        "# Send a request to summarize the previous conversation in bullet points.\n",
        "response = conversation.predict(input=\"Summarize the previous answer in bullet points.\")\n",
        "print(response)"
      ]
    }
  ],
  "metadata": {
    "kernelspec": {
      "display_name": "py-test",
      "language": "python",
      "name": "python3"
    },
    "language_info": {
      "codemirror_mode": {
        "name": "ipython",
        "version": 3
      },
      "file_extension": ".py",
      "mimetype": "text/x-python",
      "name": "python",
      "nbconvert_exporter": "python",
      "pygments_lexer": "ipython3",
      "version": "3.13.2"
    }
  },
  "nbformat": 4,
  "nbformat_minor": 2
}
